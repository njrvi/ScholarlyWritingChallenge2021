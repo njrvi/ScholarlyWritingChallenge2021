{
  "nbformat": 4,
  "nbformat_minor": 0,
  "metadata": {
    "colab": {
      "provenance": []
    },
    "kernelspec": {
      "name": "python3",
      "display_name": "Python 3"
    },
    "language_info": {
      "name": "python"
    }
  },
  "cells": [
    {
      "cell_type": "markdown",
      "source": [
        "# **2021 Scholarly Writing Challenge Notebook:** Using Machine Learning Approaches to Predict a Relapse in Schizophrenia\n",
        "\n",
        "### Vikas Nibhanupudi\n",
        "\n",
        "### **Overview of Notebook:** \n",
        "\n",
        "\n",
        "1.   Importing modules and data preprocessing\n",
        "2.   Testing Logistic Regression, MLP Classifier, and K-Nearest Neighbors ML models\n",
        "\n",
        "    a.   Tests 1: No hyperparamater optimization or principle component analysis (PCA)\n",
        "\n",
        "    b. Tests 2: Hyperparameter optimization but no PCA\n",
        "\n",
        "    c. Tests 3: Hyperparameter optimization and PCA\n",
        "\n",
        "3. Final Results\n",
        "\n"
      ],
      "metadata": {
        "id": "lQRbVMt-QBsj"
      }
    },
    {
      "cell_type": "markdown",
      "source": [
        "## **1. Importing Modules and Data Preprocessing**\n"
      ],
      "metadata": {
        "id": "2Bx3mV-lRyKn"
      }
    },
    {
      "cell_type": "code",
      "metadata": {
        "colab": {
          "base_uri": "https://localhost:8080/"
        },
        "id": "zR9I8N45HoDn",
        "outputId": "cbbcdb67-fb09-40f0-cdb7-fd986905631f"
      },
      "source": [
        "# Mounting drive\n",
        "from google.colab import drive\n",
        "drive.mount('/content/drive')"
      ],
      "execution_count": null,
      "outputs": [
        {
          "output_type": "stream",
          "name": "stdout",
          "text": [
            "Mounted at /content/drive\n"
          ]
        }
      ]
    },
    {
      "cell_type": "code",
      "metadata": {
        "id": "CIdEqrOXH8fe"
      },
      "source": [
        "# Importing modules\n",
        "import numpy as np\n",
        "import pandas as pd\n",
        "import matplotlib.pyplot as plt\n",
        "import seaborn as sns\n",
        "from sklearn.model_selection import train_test_split\n",
        "from sklearn import metrics\n",
        "from sklearn.metrics import accuracy_score\n",
        "\n",
        "from sklearn.linear_model import LogisticRegression\n",
        "from sklearn.tree import DecisionTreeClassifier\n",
        "from sklearn.neural_network import MLPClassifier\n",
        "from sklearn.neighbors import KNeighborsClassifier\n",
        "\n",
        "from sklearn.preprocessing import StandardScaler\n",
        "from sklearn.feature_selection import VarianceThreshold, SelectKBest, RFE\n",
        "from sklearn.model_selection import TimeSeriesSplit\n",
        "from sklearn.decomposition import PCA\n",
        "\n",
        "\n",
        "import tensorflow as tf\n",
        "from tensorflow import keras\n",
        "from tensorflow.keras import layers\n",
        "from tensorflow.keras import Sequential\n",
        "from tensorflow.keras.layers import LSTM, Dense\n",
        "\n",
        "from sklearn.model_selection import StratifiedKFold\n",
        "from sklearn.model_selection import GridSearchCV\n",
        "\n",
        "\n",
        "# Reading data\n",
        "raw_data = pd.read_csv('/content/drive/My Drive/Stem Fellowship Research Data and Paper/CrossCheck_Daily_Data.csv')\n",
        "raw_data = raw_data.drop(columns=['study_id'],axis = 1)\n",
        "crosscheck_data = raw_data.dropna()\n",
        "ema_descriptions = pd.read_table('/content/drive/My Drive/Stem Fellowship Research Data and Paper/ema_descriptions.tsv', index_col=1, usecols=[1,2,3])\n",
        "feature_descriptions = pd.read_table('/content/drive/My Drive/Stem Fellowship Research Data and Paper/feature_descriptions.tsv', index_col=0)\n"
      ],
      "execution_count": null,
      "outputs": []
    },
    {
      "cell_type": "code",
      "metadata": {
        "colab": {
          "base_uri": "https://localhost:8080/",
          "height": 445
        },
        "id": "jpPUcmloLfr3",
        "outputId": "7503b250-446d-4e7e-be24-075d32b3d37d"
      },
      "source": [
        "# Examining raw data \n",
        "nrows= len(crosscheck_data) \n",
        "ncols = len(crosscheck_data.columns) \n",
        "print(\"Number of rows in dataset:\", nrows)\n",
        "print(\"Number of columns in dataset:\", ncols)\n",
        "crosscheck_data.head(10)  "
      ],
      "execution_count": null,
      "outputs": [
        {
          "output_type": "stream",
          "name": "stdout",
          "text": [
            "Number of rows in dataset: 5338\n",
            "Number of columns in dataset: 154\n"
          ]
        },
        {
          "output_type": "execute_result",
          "data": {
            "text/html": [
              "<div>\n",
              "<style scoped>\n",
              "    .dataframe tbody tr th:only-of-type {\n",
              "        vertical-align: middle;\n",
              "    }\n",
              "\n",
              "    .dataframe tbody tr th {\n",
              "        vertical-align: top;\n",
              "    }\n",
              "\n",
              "    .dataframe thead th {\n",
              "        text-align: right;\n",
              "    }\n",
              "</style>\n",
              "<table border=\"1\" class=\"dataframe\">\n",
              "  <thead>\n",
              "    <tr style=\"text-align: right;\">\n",
              "      <th></th>\n",
              "      <th>eureka_id</th>\n",
              "      <th>day</th>\n",
              "      <th>act_in_vehicle_ep_0</th>\n",
              "      <th>act_in_vehicle_ep_1</th>\n",
              "      <th>act_in_vehicle_ep_2</th>\n",
              "      <th>act_in_vehicle_ep_3</th>\n",
              "      <th>act_in_vehicle_ep_4</th>\n",
              "      <th>act_on_bike_ep_0</th>\n",
              "      <th>act_on_bike_ep_1</th>\n",
              "      <th>act_on_bike_ep_2</th>\n",
              "      <th>act_on_bike_ep_3</th>\n",
              "      <th>act_on_bike_ep_4</th>\n",
              "      <th>act_on_foot_ep_0</th>\n",
              "      <th>act_on_foot_ep_1</th>\n",
              "      <th>act_on_foot_ep_2</th>\n",
              "      <th>act_on_foot_ep_3</th>\n",
              "      <th>act_on_foot_ep_4</th>\n",
              "      <th>act_running_ep_0</th>\n",
              "      <th>act_running_ep_1</th>\n",
              "      <th>act_running_ep_2</th>\n",
              "      <th>act_running_ep_3</th>\n",
              "      <th>act_running_ep_4</th>\n",
              "      <th>act_still_ep_0</th>\n",
              "      <th>act_still_ep_1</th>\n",
              "      <th>act_still_ep_2</th>\n",
              "      <th>act_still_ep_3</th>\n",
              "      <th>act_still_ep_4</th>\n",
              "      <th>act_tilting_ep_0</th>\n",
              "      <th>act_tilting_ep_1</th>\n",
              "      <th>act_tilting_ep_2</th>\n",
              "      <th>act_tilting_ep_3</th>\n",
              "      <th>act_tilting_ep_4</th>\n",
              "      <th>act_unknown_ep_0</th>\n",
              "      <th>act_unknown_ep_1</th>\n",
              "      <th>act_unknown_ep_2</th>\n",
              "      <th>act_unknown_ep_3</th>\n",
              "      <th>act_unknown_ep_4</th>\n",
              "      <th>act_walking_ep_0</th>\n",
              "      <th>act_walking_ep_1</th>\n",
              "      <th>act_walking_ep_2</th>\n",
              "      <th>...</th>\n",
              "      <th>light_std_ep_3</th>\n",
              "      <th>light_std_ep_4</th>\n",
              "      <th>loc_dist_ep_0</th>\n",
              "      <th>loc_dist_ep_1</th>\n",
              "      <th>loc_dist_ep_2</th>\n",
              "      <th>loc_dist_ep_3</th>\n",
              "      <th>loc_dist_ep_4</th>\n",
              "      <th>loc_visit_num_ep_0</th>\n",
              "      <th>loc_visit_num_ep_1</th>\n",
              "      <th>loc_visit_num_ep_2</th>\n",
              "      <th>loc_visit_num_ep_3</th>\n",
              "      <th>loc_visit_num_ep_4</th>\n",
              "      <th>quality_activity</th>\n",
              "      <th>quality_audio</th>\n",
              "      <th>quality_gps_on</th>\n",
              "      <th>quality_light</th>\n",
              "      <th>quality_loc</th>\n",
              "      <th>sleep_duration</th>\n",
              "      <th>sleep_end</th>\n",
              "      <th>sleep_start</th>\n",
              "      <th>sms_in_num_ep_0</th>\n",
              "      <th>sms_in_num_ep_1</th>\n",
              "      <th>sms_in_num_ep_2</th>\n",
              "      <th>sms_in_num_ep_3</th>\n",
              "      <th>sms_in_num_ep_4</th>\n",
              "      <th>sms_out_num_ep_0</th>\n",
              "      <th>sms_out_num_ep_1</th>\n",
              "      <th>sms_out_num_ep_2</th>\n",
              "      <th>sms_out_num_ep_3</th>\n",
              "      <th>sms_out_num_ep_4</th>\n",
              "      <th>unlock_duration_ep_0</th>\n",
              "      <th>unlock_duration_ep_1</th>\n",
              "      <th>unlock_duration_ep_2</th>\n",
              "      <th>unlock_duration_ep_3</th>\n",
              "      <th>unlock_duration_ep_4</th>\n",
              "      <th>unlock_num_ep_0</th>\n",
              "      <th>unlock_num_ep_1</th>\n",
              "      <th>unlock_num_ep_2</th>\n",
              "      <th>unlock_num_ep_3</th>\n",
              "      <th>unlock_num_ep_4</th>\n",
              "    </tr>\n",
              "  </thead>\n",
              "  <tbody>\n",
              "    <tr>\n",
              "      <th>15</th>\n",
              "      <td>u004</td>\n",
              "      <td>20150206</td>\n",
              "      <td>4639</td>\n",
              "      <td>0</td>\n",
              "      <td>1847</td>\n",
              "      <td>2384</td>\n",
              "      <td>408</td>\n",
              "      <td>351</td>\n",
              "      <td>0</td>\n",
              "      <td>219</td>\n",
              "      <td>132</td>\n",
              "      <td>0</td>\n",
              "      <td>644</td>\n",
              "      <td>0</td>\n",
              "      <td>170</td>\n",
              "      <td>34</td>\n",
              "      <td>440</td>\n",
              "      <td>0</td>\n",
              "      <td>0</td>\n",
              "      <td>0</td>\n",
              "      <td>0</td>\n",
              "      <td>0</td>\n",
              "      <td>79348</td>\n",
              "      <td>21599</td>\n",
              "      <td>19291</td>\n",
              "      <td>18831</td>\n",
              "      <td>19627</td>\n",
              "      <td>236</td>\n",
              "      <td>0</td>\n",
              "      <td>31</td>\n",
              "      <td>57</td>\n",
              "      <td>148</td>\n",
              "      <td>1181</td>\n",
              "      <td>0</td>\n",
              "      <td>42</td>\n",
              "      <td>162</td>\n",
              "      <td>977</td>\n",
              "      <td>0</td>\n",
              "      <td>0</td>\n",
              "      <td>0</td>\n",
              "      <td>...</td>\n",
              "      <td>5.873673e-01</td>\n",
              "      <td>52.333745</td>\n",
              "      <td>49841.420179</td>\n",
              "      <td>0.000000</td>\n",
              "      <td>21586.572087</td>\n",
              "      <td>26221.614742</td>\n",
              "      <td>2033.233349</td>\n",
              "      <td>2.0</td>\n",
              "      <td>1.0</td>\n",
              "      <td>2.0</td>\n",
              "      <td>2.0</td>\n",
              "      <td>1.0</td>\n",
              "      <td>24</td>\n",
              "      <td>24</td>\n",
              "      <td>1.0</td>\n",
              "      <td>24</td>\n",
              "      <td>24.0</td>\n",
              "      <td>7.50</td>\n",
              "      <td>88</td>\n",
              "      <td>28</td>\n",
              "      <td>0</td>\n",
              "      <td>0</td>\n",
              "      <td>0</td>\n",
              "      <td>0</td>\n",
              "      <td>0</td>\n",
              "      <td>0</td>\n",
              "      <td>0</td>\n",
              "      <td>0</td>\n",
              "      <td>0</td>\n",
              "      <td>0</td>\n",
              "      <td>730.407</td>\n",
              "      <td>0.000</td>\n",
              "      <td>255.949</td>\n",
              "      <td>28.152</td>\n",
              "      <td>446.306</td>\n",
              "      <td>14</td>\n",
              "      <td>0</td>\n",
              "      <td>4</td>\n",
              "      <td>2</td>\n",
              "      <td>8</td>\n",
              "    </tr>\n",
              "    <tr>\n",
              "      <th>22</th>\n",
              "      <td>u004</td>\n",
              "      <td>20150213</td>\n",
              "      <td>2873</td>\n",
              "      <td>0</td>\n",
              "      <td>0</td>\n",
              "      <td>0</td>\n",
              "      <td>2873</td>\n",
              "      <td>31</td>\n",
              "      <td>0</td>\n",
              "      <td>0</td>\n",
              "      <td>0</td>\n",
              "      <td>31</td>\n",
              "      <td>171</td>\n",
              "      <td>0</td>\n",
              "      <td>0</td>\n",
              "      <td>0</td>\n",
              "      <td>171</td>\n",
              "      <td>0</td>\n",
              "      <td>0</td>\n",
              "      <td>0</td>\n",
              "      <td>0</td>\n",
              "      <td>0</td>\n",
              "      <td>82872</td>\n",
              "      <td>21599</td>\n",
              "      <td>21600</td>\n",
              "      <td>21599</td>\n",
              "      <td>18074</td>\n",
              "      <td>300</td>\n",
              "      <td>0</td>\n",
              "      <td>0</td>\n",
              "      <td>1</td>\n",
              "      <td>299</td>\n",
              "      <td>152</td>\n",
              "      <td>0</td>\n",
              "      <td>0</td>\n",
              "      <td>0</td>\n",
              "      <td>152</td>\n",
              "      <td>0</td>\n",
              "      <td>0</td>\n",
              "      <td>0</td>\n",
              "      <td>...</td>\n",
              "      <td>2.776089e+01</td>\n",
              "      <td>996.162481</td>\n",
              "      <td>26703.917403</td>\n",
              "      <td>0.000000</td>\n",
              "      <td>0.000000</td>\n",
              "      <td>0.000000</td>\n",
              "      <td>26703.917403</td>\n",
              "      <td>2.0</td>\n",
              "      <td>1.0</td>\n",
              "      <td>1.0</td>\n",
              "      <td>1.0</td>\n",
              "      <td>2.0</td>\n",
              "      <td>24</td>\n",
              "      <td>24</td>\n",
              "      <td>1.0</td>\n",
              "      <td>24</td>\n",
              "      <td>24.0</td>\n",
              "      <td>7.75</td>\n",
              "      <td>88</td>\n",
              "      <td>26</td>\n",
              "      <td>0</td>\n",
              "      <td>0</td>\n",
              "      <td>0</td>\n",
              "      <td>0</td>\n",
              "      <td>0</td>\n",
              "      <td>0</td>\n",
              "      <td>0</td>\n",
              "      <td>0</td>\n",
              "      <td>0</td>\n",
              "      <td>0</td>\n",
              "      <td>304.928</td>\n",
              "      <td>0.000</td>\n",
              "      <td>10.210</td>\n",
              "      <td>0.000</td>\n",
              "      <td>294.718</td>\n",
              "      <td>9</td>\n",
              "      <td>0</td>\n",
              "      <td>1</td>\n",
              "      <td>0</td>\n",
              "      <td>8</td>\n",
              "    </tr>\n",
              "    <tr>\n",
              "      <th>25</th>\n",
              "      <td>u004</td>\n",
              "      <td>20150216</td>\n",
              "      <td>297</td>\n",
              "      <td>0</td>\n",
              "      <td>0</td>\n",
              "      <td>297</td>\n",
              "      <td>0</td>\n",
              "      <td>0</td>\n",
              "      <td>0</td>\n",
              "      <td>0</td>\n",
              "      <td>0</td>\n",
              "      <td>0</td>\n",
              "      <td>2556</td>\n",
              "      <td>0</td>\n",
              "      <td>0</td>\n",
              "      <td>2556</td>\n",
              "      <td>0</td>\n",
              "      <td>0</td>\n",
              "      <td>0</td>\n",
              "      <td>0</td>\n",
              "      <td>0</td>\n",
              "      <td>0</td>\n",
              "      <td>82002</td>\n",
              "      <td>21599</td>\n",
              "      <td>21600</td>\n",
              "      <td>17246</td>\n",
              "      <td>21557</td>\n",
              "      <td>161</td>\n",
              "      <td>0</td>\n",
              "      <td>0</td>\n",
              "      <td>147</td>\n",
              "      <td>14</td>\n",
              "      <td>1383</td>\n",
              "      <td>0</td>\n",
              "      <td>0</td>\n",
              "      <td>1354</td>\n",
              "      <td>29</td>\n",
              "      <td>0</td>\n",
              "      <td>0</td>\n",
              "      <td>0</td>\n",
              "      <td>...</td>\n",
              "      <td>4.951442e+03</td>\n",
              "      <td>32.318138</td>\n",
              "      <td>2414.482357</td>\n",
              "      <td>0.000000</td>\n",
              "      <td>120.517095</td>\n",
              "      <td>2293.965262</td>\n",
              "      <td>0.000000</td>\n",
              "      <td>1.0</td>\n",
              "      <td>1.0</td>\n",
              "      <td>1.0</td>\n",
              "      <td>1.0</td>\n",
              "      <td>1.0</td>\n",
              "      <td>24</td>\n",
              "      <td>24</td>\n",
              "      <td>1.0</td>\n",
              "      <td>24</td>\n",
              "      <td>24.0</td>\n",
              "      <td>6.75</td>\n",
              "      <td>86</td>\n",
              "      <td>32</td>\n",
              "      <td>0</td>\n",
              "      <td>0</td>\n",
              "      <td>0</td>\n",
              "      <td>0</td>\n",
              "      <td>0</td>\n",
              "      <td>0</td>\n",
              "      <td>0</td>\n",
              "      <td>0</td>\n",
              "      <td>0</td>\n",
              "      <td>0</td>\n",
              "      <td>275.660</td>\n",
              "      <td>0.000</td>\n",
              "      <td>0.000</td>\n",
              "      <td>37.605</td>\n",
              "      <td>238.055</td>\n",
              "      <td>4</td>\n",
              "      <td>0</td>\n",
              "      <td>0</td>\n",
              "      <td>2</td>\n",
              "      <td>2</td>\n",
              "    </tr>\n",
              "    <tr>\n",
              "      <th>27</th>\n",
              "      <td>u004</td>\n",
              "      <td>20150218</td>\n",
              "      <td>6296</td>\n",
              "      <td>1822</td>\n",
              "      <td>2516</td>\n",
              "      <td>1958</td>\n",
              "      <td>0</td>\n",
              "      <td>22</td>\n",
              "      <td>0</td>\n",
              "      <td>22</td>\n",
              "      <td>0</td>\n",
              "      <td>0</td>\n",
              "      <td>7258</td>\n",
              "      <td>366</td>\n",
              "      <td>1497</td>\n",
              "      <td>4506</td>\n",
              "      <td>889</td>\n",
              "      <td>0</td>\n",
              "      <td>0</td>\n",
              "      <td>0</td>\n",
              "      <td>0</td>\n",
              "      <td>0</td>\n",
              "      <td>64764</td>\n",
              "      <td>19344</td>\n",
              "      <td>15396</td>\n",
              "      <td>9481</td>\n",
              "      <td>20543</td>\n",
              "      <td>1670</td>\n",
              "      <td>65</td>\n",
              "      <td>652</td>\n",
              "      <td>891</td>\n",
              "      <td>62</td>\n",
              "      <td>6389</td>\n",
              "      <td>2</td>\n",
              "      <td>1517</td>\n",
              "      <td>4764</td>\n",
              "      <td>106</td>\n",
              "      <td>0</td>\n",
              "      <td>0</td>\n",
              "      <td>0</td>\n",
              "      <td>...</td>\n",
              "      <td>1.485045e+06</td>\n",
              "      <td>26612.005987</td>\n",
              "      <td>25355.929376</td>\n",
              "      <td>25355.929376</td>\n",
              "      <td>0.000000</td>\n",
              "      <td>0.000000</td>\n",
              "      <td>0.000000</td>\n",
              "      <td>1.0</td>\n",
              "      <td>1.0</td>\n",
              "      <td>0.0</td>\n",
              "      <td>0.0</td>\n",
              "      <td>0.0</td>\n",
              "      <td>16</td>\n",
              "      <td>24</td>\n",
              "      <td>1.0</td>\n",
              "      <td>24</td>\n",
              "      <td>5.0</td>\n",
              "      <td>5.50</td>\n",
              "      <td>88</td>\n",
              "      <td>44</td>\n",
              "      <td>0</td>\n",
              "      <td>0</td>\n",
              "      <td>0</td>\n",
              "      <td>0</td>\n",
              "      <td>0</td>\n",
              "      <td>0</td>\n",
              "      <td>0</td>\n",
              "      <td>0</td>\n",
              "      <td>0</td>\n",
              "      <td>0</td>\n",
              "      <td>5919.168</td>\n",
              "      <td>40.248</td>\n",
              "      <td>2641.238</td>\n",
              "      <td>3146.014</td>\n",
              "      <td>91.668</td>\n",
              "      <td>49</td>\n",
              "      <td>3</td>\n",
              "      <td>17</td>\n",
              "      <td>26</td>\n",
              "      <td>3</td>\n",
              "    </tr>\n",
              "    <tr>\n",
              "      <th>29</th>\n",
              "      <td>u004</td>\n",
              "      <td>20150220</td>\n",
              "      <td>4945</td>\n",
              "      <td>1</td>\n",
              "      <td>0</td>\n",
              "      <td>2602</td>\n",
              "      <td>2342</td>\n",
              "      <td>21</td>\n",
              "      <td>0</td>\n",
              "      <td>0</td>\n",
              "      <td>21</td>\n",
              "      <td>0</td>\n",
              "      <td>9404</td>\n",
              "      <td>0</td>\n",
              "      <td>828</td>\n",
              "      <td>5617</td>\n",
              "      <td>2959</td>\n",
              "      <td>0</td>\n",
              "      <td>0</td>\n",
              "      <td>0</td>\n",
              "      <td>0</td>\n",
              "      <td>0</td>\n",
              "      <td>58886</td>\n",
              "      <td>14044</td>\n",
              "      <td>20440</td>\n",
              "      <td>9757</td>\n",
              "      <td>14645</td>\n",
              "      <td>10147</td>\n",
              "      <td>7546</td>\n",
              "      <td>113</td>\n",
              "      <td>1853</td>\n",
              "      <td>635</td>\n",
              "      <td>2996</td>\n",
              "      <td>8</td>\n",
              "      <td>219</td>\n",
              "      <td>1750</td>\n",
              "      <td>1019</td>\n",
              "      <td>0</td>\n",
              "      <td>0</td>\n",
              "      <td>0</td>\n",
              "      <td>...</td>\n",
              "      <td>1.429285e+06</td>\n",
              "      <td>220.577973</td>\n",
              "      <td>0.000000</td>\n",
              "      <td>0.000000</td>\n",
              "      <td>0.000000</td>\n",
              "      <td>0.000000</td>\n",
              "      <td>0.000000</td>\n",
              "      <td>0.0</td>\n",
              "      <td>0.0</td>\n",
              "      <td>0.0</td>\n",
              "      <td>0.0</td>\n",
              "      <td>0.0</td>\n",
              "      <td>15</td>\n",
              "      <td>24</td>\n",
              "      <td>1.0</td>\n",
              "      <td>24</td>\n",
              "      <td>0.0</td>\n",
              "      <td>4.25</td>\n",
              "      <td>58</td>\n",
              "      <td>24</td>\n",
              "      <td>9</td>\n",
              "      <td>0</td>\n",
              "      <td>0</td>\n",
              "      <td>7</td>\n",
              "      <td>2</td>\n",
              "      <td>5</td>\n",
              "      <td>0</td>\n",
              "      <td>0</td>\n",
              "      <td>5</td>\n",
              "      <td>0</td>\n",
              "      <td>5038.623</td>\n",
              "      <td>30.908</td>\n",
              "      <td>254.616</td>\n",
              "      <td>3792.201</td>\n",
              "      <td>960.898</td>\n",
              "      <td>74</td>\n",
              "      <td>2</td>\n",
              "      <td>7</td>\n",
              "      <td>52</td>\n",
              "      <td>13</td>\n",
              "    </tr>\n",
              "    <tr>\n",
              "      <th>47</th>\n",
              "      <td>u004</td>\n",
              "      <td>20150325</td>\n",
              "      <td>75</td>\n",
              "      <td>0</td>\n",
              "      <td>60</td>\n",
              "      <td>15</td>\n",
              "      <td>0</td>\n",
              "      <td>0</td>\n",
              "      <td>0</td>\n",
              "      <td>0</td>\n",
              "      <td>0</td>\n",
              "      <td>0</td>\n",
              "      <td>98</td>\n",
              "      <td>0</td>\n",
              "      <td>54</td>\n",
              "      <td>44</td>\n",
              "      <td>0</td>\n",
              "      <td>0</td>\n",
              "      <td>0</td>\n",
              "      <td>0</td>\n",
              "      <td>0</td>\n",
              "      <td>0</td>\n",
              "      <td>77501</td>\n",
              "      <td>21599</td>\n",
              "      <td>20061</td>\n",
              "      <td>14241</td>\n",
              "      <td>21600</td>\n",
              "      <td>8264</td>\n",
              "      <td>0</td>\n",
              "      <td>1239</td>\n",
              "      <td>7025</td>\n",
              "      <td>0</td>\n",
              "      <td>461</td>\n",
              "      <td>0</td>\n",
              "      <td>186</td>\n",
              "      <td>275</td>\n",
              "      <td>0</td>\n",
              "      <td>0</td>\n",
              "      <td>0</td>\n",
              "      <td>0</td>\n",
              "      <td>...</td>\n",
              "      <td>4.684016e+04</td>\n",
              "      <td>0.000000</td>\n",
              "      <td>0.000000</td>\n",
              "      <td>0.000000</td>\n",
              "      <td>0.000000</td>\n",
              "      <td>0.000000</td>\n",
              "      <td>0.000000</td>\n",
              "      <td>1.0</td>\n",
              "      <td>1.0</td>\n",
              "      <td>1.0</td>\n",
              "      <td>1.0</td>\n",
              "      <td>1.0</td>\n",
              "      <td>6</td>\n",
              "      <td>22</td>\n",
              "      <td>1.0</td>\n",
              "      <td>22</td>\n",
              "      <td>22.0</td>\n",
              "      <td>13.50</td>\n",
              "      <td>108</td>\n",
              "      <td>0</td>\n",
              "      <td>2</td>\n",
              "      <td>0</td>\n",
              "      <td>0</td>\n",
              "      <td>2</td>\n",
              "      <td>0</td>\n",
              "      <td>2</td>\n",
              "      <td>0</td>\n",
              "      <td>0</td>\n",
              "      <td>2</td>\n",
              "      <td>0</td>\n",
              "      <td>1966.121</td>\n",
              "      <td>14.831</td>\n",
              "      <td>594.938</td>\n",
              "      <td>1356.352</td>\n",
              "      <td>0.000</td>\n",
              "      <td>35</td>\n",
              "      <td>1</td>\n",
              "      <td>15</td>\n",
              "      <td>19</td>\n",
              "      <td>0</td>\n",
              "    </tr>\n",
              "    <tr>\n",
              "      <th>75</th>\n",
              "      <td>u005</td>\n",
              "      <td>20150204</td>\n",
              "      <td>2500</td>\n",
              "      <td>0</td>\n",
              "      <td>1618</td>\n",
              "      <td>574</td>\n",
              "      <td>308</td>\n",
              "      <td>0</td>\n",
              "      <td>0</td>\n",
              "      <td>0</td>\n",
              "      <td>0</td>\n",
              "      <td>0</td>\n",
              "      <td>619</td>\n",
              "      <td>0</td>\n",
              "      <td>519</td>\n",
              "      <td>100</td>\n",
              "      <td>0</td>\n",
              "      <td>0</td>\n",
              "      <td>0</td>\n",
              "      <td>0</td>\n",
              "      <td>0</td>\n",
              "      <td>0</td>\n",
              "      <td>82676</td>\n",
              "      <td>21598</td>\n",
              "      <td>19028</td>\n",
              "      <td>20796</td>\n",
              "      <td>21254</td>\n",
              "      <td>362</td>\n",
              "      <td>1</td>\n",
              "      <td>224</td>\n",
              "      <td>104</td>\n",
              "      <td>33</td>\n",
              "      <td>242</td>\n",
              "      <td>0</td>\n",
              "      <td>211</td>\n",
              "      <td>26</td>\n",
              "      <td>5</td>\n",
              "      <td>0</td>\n",
              "      <td>0</td>\n",
              "      <td>0</td>\n",
              "      <td>...</td>\n",
              "      <td>7.045869e+04</td>\n",
              "      <td>22035.493628</td>\n",
              "      <td>24398.684587</td>\n",
              "      <td>0.000000</td>\n",
              "      <td>18146.297923</td>\n",
              "      <td>540.360132</td>\n",
              "      <td>1952.051260</td>\n",
              "      <td>3.0</td>\n",
              "      <td>1.0</td>\n",
              "      <td>2.0</td>\n",
              "      <td>1.0</td>\n",
              "      <td>1.0</td>\n",
              "      <td>24</td>\n",
              "      <td>24</td>\n",
              "      <td>1.0</td>\n",
              "      <td>24</td>\n",
              "      <td>21.0</td>\n",
              "      <td>12.00</td>\n",
              "      <td>96</td>\n",
              "      <td>0</td>\n",
              "      <td>0</td>\n",
              "      <td>0</td>\n",
              "      <td>0</td>\n",
              "      <td>0</td>\n",
              "      <td>0</td>\n",
              "      <td>0</td>\n",
              "      <td>0</td>\n",
              "      <td>0</td>\n",
              "      <td>0</td>\n",
              "      <td>0</td>\n",
              "      <td>432.096</td>\n",
              "      <td>0.000</td>\n",
              "      <td>10.405</td>\n",
              "      <td>261.130</td>\n",
              "      <td>160.561</td>\n",
              "      <td>12</td>\n",
              "      <td>0</td>\n",
              "      <td>1</td>\n",
              "      <td>6</td>\n",
              "      <td>5</td>\n",
              "    </tr>\n",
              "    <tr>\n",
              "      <th>77</th>\n",
              "      <td>u005</td>\n",
              "      <td>20150206</td>\n",
              "      <td>1701</td>\n",
              "      <td>0</td>\n",
              "      <td>880</td>\n",
              "      <td>821</td>\n",
              "      <td>0</td>\n",
              "      <td>37</td>\n",
              "      <td>0</td>\n",
              "      <td>37</td>\n",
              "      <td>0</td>\n",
              "      <td>0</td>\n",
              "      <td>1192</td>\n",
              "      <td>0</td>\n",
              "      <td>727</td>\n",
              "      <td>465</td>\n",
              "      <td>0</td>\n",
              "      <td>0</td>\n",
              "      <td>0</td>\n",
              "      <td>0</td>\n",
              "      <td>0</td>\n",
              "      <td>0</td>\n",
              "      <td>83092</td>\n",
              "      <td>21598</td>\n",
              "      <td>19727</td>\n",
              "      <td>20168</td>\n",
              "      <td>21599</td>\n",
              "      <td>218</td>\n",
              "      <td>1</td>\n",
              "      <td>105</td>\n",
              "      <td>111</td>\n",
              "      <td>1</td>\n",
              "      <td>159</td>\n",
              "      <td>0</td>\n",
              "      <td>124</td>\n",
              "      <td>35</td>\n",
              "      <td>0</td>\n",
              "      <td>0</td>\n",
              "      <td>0</td>\n",
              "      <td>0</td>\n",
              "      <td>...</td>\n",
              "      <td>7.434071e+03</td>\n",
              "      <td>0.000000</td>\n",
              "      <td>11198.536087</td>\n",
              "      <td>0.000000</td>\n",
              "      <td>5283.108158</td>\n",
              "      <td>5608.220166</td>\n",
              "      <td>0.000000</td>\n",
              "      <td>1.0</td>\n",
              "      <td>1.0</td>\n",
              "      <td>1.0</td>\n",
              "      <td>1.0</td>\n",
              "      <td>1.0</td>\n",
              "      <td>24</td>\n",
              "      <td>24</td>\n",
              "      <td>1.0</td>\n",
              "      <td>24</td>\n",
              "      <td>16.0</td>\n",
              "      <td>10.50</td>\n",
              "      <td>84</td>\n",
              "      <td>0</td>\n",
              "      <td>0</td>\n",
              "      <td>0</td>\n",
              "      <td>0</td>\n",
              "      <td>0</td>\n",
              "      <td>0</td>\n",
              "      <td>0</td>\n",
              "      <td>0</td>\n",
              "      <td>0</td>\n",
              "      <td>0</td>\n",
              "      <td>0</td>\n",
              "      <td>78.415</td>\n",
              "      <td>0.000</td>\n",
              "      <td>0.000</td>\n",
              "      <td>78.415</td>\n",
              "      <td>0.000</td>\n",
              "      <td>1</td>\n",
              "      <td>0</td>\n",
              "      <td>0</td>\n",
              "      <td>1</td>\n",
              "      <td>0</td>\n",
              "    </tr>\n",
              "    <tr>\n",
              "      <th>89</th>\n",
              "      <td>u005</td>\n",
              "      <td>20150218</td>\n",
              "      <td>1462</td>\n",
              "      <td>0</td>\n",
              "      <td>741</td>\n",
              "      <td>721</td>\n",
              "      <td>0</td>\n",
              "      <td>0</td>\n",
              "      <td>0</td>\n",
              "      <td>0</td>\n",
              "      <td>0</td>\n",
              "      <td>0</td>\n",
              "      <td>514</td>\n",
              "      <td>0</td>\n",
              "      <td>218</td>\n",
              "      <td>296</td>\n",
              "      <td>0</td>\n",
              "      <td>0</td>\n",
              "      <td>0</td>\n",
              "      <td>0</td>\n",
              "      <td>0</td>\n",
              "      <td>0</td>\n",
              "      <td>83816</td>\n",
              "      <td>21599</td>\n",
              "      <td>20078</td>\n",
              "      <td>20581</td>\n",
              "      <td>21558</td>\n",
              "      <td>544</td>\n",
              "      <td>0</td>\n",
              "      <td>542</td>\n",
              "      <td>2</td>\n",
              "      <td>0</td>\n",
              "      <td>63</td>\n",
              "      <td>0</td>\n",
              "      <td>21</td>\n",
              "      <td>0</td>\n",
              "      <td>42</td>\n",
              "      <td>0</td>\n",
              "      <td>0</td>\n",
              "      <td>0</td>\n",
              "      <td>...</td>\n",
              "      <td>5.875899e+03</td>\n",
              "      <td>0.000000</td>\n",
              "      <td>11999.975695</td>\n",
              "      <td>0.000000</td>\n",
              "      <td>5912.748912</td>\n",
              "      <td>3811.617174</td>\n",
              "      <td>0.000000</td>\n",
              "      <td>2.0</td>\n",
              "      <td>1.0</td>\n",
              "      <td>2.0</td>\n",
              "      <td>1.0</td>\n",
              "      <td>1.0</td>\n",
              "      <td>24</td>\n",
              "      <td>24</td>\n",
              "      <td>1.0</td>\n",
              "      <td>24</td>\n",
              "      <td>23.0</td>\n",
              "      <td>8.00</td>\n",
              "      <td>88</td>\n",
              "      <td>24</td>\n",
              "      <td>0</td>\n",
              "      <td>0</td>\n",
              "      <td>0</td>\n",
              "      <td>0</td>\n",
              "      <td>0</td>\n",
              "      <td>0</td>\n",
              "      <td>0</td>\n",
              "      <td>0</td>\n",
              "      <td>0</td>\n",
              "      <td>0</td>\n",
              "      <td>114.632</td>\n",
              "      <td>0.000</td>\n",
              "      <td>58.843</td>\n",
              "      <td>55.789</td>\n",
              "      <td>0.000</td>\n",
              "      <td>4</td>\n",
              "      <td>0</td>\n",
              "      <td>2</td>\n",
              "      <td>2</td>\n",
              "      <td>0</td>\n",
              "    </tr>\n",
              "    <tr>\n",
              "      <th>91</th>\n",
              "      <td>u005</td>\n",
              "      <td>20150220</td>\n",
              "      <td>722</td>\n",
              "      <td>0</td>\n",
              "      <td>0</td>\n",
              "      <td>722</td>\n",
              "      <td>0</td>\n",
              "      <td>0</td>\n",
              "      <td>0</td>\n",
              "      <td>0</td>\n",
              "      <td>0</td>\n",
              "      <td>0</td>\n",
              "      <td>24</td>\n",
              "      <td>0</td>\n",
              "      <td>0</td>\n",
              "      <td>24</td>\n",
              "      <td>0</td>\n",
              "      <td>0</td>\n",
              "      <td>0</td>\n",
              "      <td>0</td>\n",
              "      <td>0</td>\n",
              "      <td>0</td>\n",
              "      <td>85651</td>\n",
              "      <td>21599</td>\n",
              "      <td>21600</td>\n",
              "      <td>20852</td>\n",
              "      <td>21600</td>\n",
              "      <td>1</td>\n",
              "      <td>0</td>\n",
              "      <td>0</td>\n",
              "      <td>1</td>\n",
              "      <td>0</td>\n",
              "      <td>1</td>\n",
              "      <td>0</td>\n",
              "      <td>0</td>\n",
              "      <td>1</td>\n",
              "      <td>0</td>\n",
              "      <td>0</td>\n",
              "      <td>0</td>\n",
              "      <td>0</td>\n",
              "      <td>...</td>\n",
              "      <td>6.665615e+04</td>\n",
              "      <td>0.000000</td>\n",
              "      <td>11590.838003</td>\n",
              "      <td>0.000000</td>\n",
              "      <td>5723.413736</td>\n",
              "      <td>5867.424266</td>\n",
              "      <td>0.000000</td>\n",
              "      <td>2.0</td>\n",
              "      <td>1.0</td>\n",
              "      <td>2.0</td>\n",
              "      <td>2.0</td>\n",
              "      <td>1.0</td>\n",
              "      <td>19</td>\n",
              "      <td>24</td>\n",
              "      <td>1.0</td>\n",
              "      <td>24</td>\n",
              "      <td>19.0</td>\n",
              "      <td>20.00</td>\n",
              "      <td>160</td>\n",
              "      <td>0</td>\n",
              "      <td>0</td>\n",
              "      <td>0</td>\n",
              "      <td>0</td>\n",
              "      <td>0</td>\n",
              "      <td>0</td>\n",
              "      <td>0</td>\n",
              "      <td>0</td>\n",
              "      <td>0</td>\n",
              "      <td>0</td>\n",
              "      <td>0</td>\n",
              "      <td>67.746</td>\n",
              "      <td>0.000</td>\n",
              "      <td>0.000</td>\n",
              "      <td>67.746</td>\n",
              "      <td>0.000</td>\n",
              "      <td>2</td>\n",
              "      <td>0</td>\n",
              "      <td>0</td>\n",
              "      <td>2</td>\n",
              "      <td>0</td>\n",
              "    </tr>\n",
              "  </tbody>\n",
              "</table>\n",
              "<p>10 rows × 154 columns</p>\n",
              "</div>"
            ],
            "text/plain": [
              "   eureka_id       day  ...  unlock_num_ep_3  unlock_num_ep_4\n",
              "15      u004  20150206  ...                2                8\n",
              "22      u004  20150213  ...                0                8\n",
              "25      u004  20150216  ...                2                2\n",
              "27      u004  20150218  ...               26                3\n",
              "29      u004  20150220  ...               52               13\n",
              "47      u004  20150325  ...               19                0\n",
              "75      u005  20150204  ...                6                5\n",
              "77      u005  20150206  ...                1                0\n",
              "89      u005  20150218  ...                2                0\n",
              "91      u005  20150220  ...                2                0\n",
              "\n",
              "[10 rows x 154 columns]"
            ]
          },
          "metadata": {},
          "execution_count": 3
        }
      ]
    },
    {
      "cell_type": "code",
      "metadata": {
        "id": "xgSxoKp2Lj08"
      },
      "source": [
        "# Dropping certain columns and filtering data before implementing ML models\n",
        "X = crosscheck_data.drop([c for c in crosscheck_data.columns if 'ema' in c] + ['eureka_id', 'day'], axis=1) \n",
        "y = crosscheck_data[['ema_score']] <= 8 \n",
        "\n",
        "# Splitting data into training and testing data (75-25 ratio)\n",
        "X_train, X_test, y_train, y_test = train_test_split(X,y)\n"
      ],
      "execution_count": null,
      "outputs": []
    },
    {
      "cell_type": "markdown",
      "source": [
        "## **2. Testing Logistic Regression, MLP Classifier, and K-Nearest Neighbors ML Models**\n"
      ],
      "metadata": {
        "id": "6zK2COg5SAKJ"
      }
    },
    {
      "cell_type": "markdown",
      "source": [
        "### **2. a) Tests 1: No Hyperparamater Optimization or Principle Component Analysis (PCA)**\n"
      ],
      "metadata": {
        "id": "GB0jKBXcSLln"
      }
    },
    {
      "cell_type": "markdown",
      "source": [
        "**Logistic Regression**"
      ],
      "metadata": {
        "id": "zEhDZSkgWAWH"
      }
    },
    {
      "cell_type": "code",
      "metadata": {
        "colab": {
          "base_uri": "https://localhost:8080/"
        },
        "id": "m8VegfuVDPVx",
        "outputId": "ae94cef9-c2db-46fe-fce4-f794d31c92ab"
      },
      "source": [
        "## Tests 1: Logistic Regression\n",
        "model = LogisticRegression() \n",
        "model.fit(X_train, y_train) \n",
        "y_pred = model.predict(X_test)\n",
        "print(accuracy_score(y_pred, y_test) * 100)"
      ],
      "execution_count": null,
      "outputs": [
        {
          "output_type": "stream",
          "name": "stdout",
          "text": [
            "57.528089887640455\n"
          ]
        } 
      ]
    },
    {
      "cell_type": "markdown",
      "source": [
        "**MLP Classifier**"
      ],
      "metadata": {
        "id": "1a1PoO08WETm"
      }
    },
    {
      "cell_type": "code",
      "metadata": {
        "colab": {
          "base_uri": "https://localhost:8080/"
        },
        "id": "JLssJRJLDUV_",
        "outputId": "86a79b76-f1aa-4102-d27e-0b7bba26209f"
      },
      "source": [
        "## Tests 1: MLP Classifier\n",
        "model1 = MLPClassifier()\n",
        "model1.fit(X_train, y_train)\n",
        "y_pred1 = model1.predict(X_test)\n",
        "print(accuracy_score(y_pred1, y_test)*100)"
      ],
      "execution_count": null,
      "outputs": [
        {
          "output_type": "stream",
          "name": "stdout",
          "text": [
            "60.37453183520599\n"
          ]
        }
      ]
    },
    {
      "cell_type": "markdown",
      "source": [
        "**K-Nearest Neighbors**"
      ],
      "metadata": {
        "id": "nSNNYcULWHBv"
      }
    },
    {
      "cell_type": "code",
      "metadata": {
        "colab": {
          "base_uri": "https://localhost:8080/"
        },
        "id": "pS85f3btDYf0",
        "outputId": "f50d099d-d7bb-459b-8bb5-3a08c81dc718"
      },
      "source": [
        "## Tests 1: KNeighborsClassifier\n",
        "model2 = KNeighborsClassifier()\n",
        "model2.fit(X_train, y_train)\n",
        "y_pred2 = model2.predict(X_test)\n",
        "print(accuracy_score(y_pred2, y_test)*100)"
      ],
      "execution_count": null,
      "outputs": [
        {
          "output_type": "stream",
          "name": "stdout",
          "text": [
            "58.27715355805243\n"
          ]
        }
      ]
    },
    {
      "cell_type": "markdown",
      "metadata": {
        "id": "CTZnYtOqLtn0"
      },
      "source": [
        "### **Tests 1: Results**\n",
        "Logistic Regression: 57.53%\n",
        "\n",
        "MLP Classifier: 60.37% \n",
        "\n",
        "K-Nearest Neighbors: 58.28% \n"
      ]
    },
    {
      "cell_type": "markdown",
      "source": [
        "### **Visualizing Results in Confusion Matrices**\n",
        "Allows for identification of false positives and false negatives, an important distinction.\n",
        "\n",
        "0 - not at risk of relapse \n",
        "\n",
        "1 - at risk of relapse"
      ],
      "metadata": {
        "id": "yZFlWJqxTSep"
      }
    },
    {
      "cell_type": "markdown",
      "source": [
        "**Logistic Regression**"
      ],
      "metadata": {
        "id": "aSG1rnIYa1mI"
      }
    },
    {
      "cell_type": "code",
      "metadata": {
        "colab": {
          "base_uri": "https://localhost:8080/",
          "height": 486
        },
        "id": "Nhyae4YSE2ZG",
        "outputId": "121aa4ec-b806-4da8-8ea0-5d367b6f6ac6"
      },
      "source": [
        "# Create the Confusion Matrix for Logistic Regression\n",
        "cnf_matrix = metrics.confusion_matrix(y_test, y_pred)\n",
        "\n",
        "# Visualizing the Confusion Matrix\n",
        "class_names = [0, 1] \n",
        "\n",
        "fig, ax = plt.subplots()\n",
        "tick_marks = np.arange(len(class_names)) \n",
        "plt.xticks(tick_marks, class_names)\n",
        "plt.yticks(tick_marks, class_names)\n",
        "sns.heatmap(pd.DataFrame(cnf_matrix), annot=True, cmap=\"viridis\" ,fmt='g') \n",
        "ax.xaxis.set_label_position(\"top\")\n",
        "plt.tight_layout()\n",
        "plt.title('Confusion Matrix for Logistic Regression', y = 1.1)\n",
        "plt.ylabel('Actual Diagnosis')\n",
        "plt.xlabel('Predicted Diagnosis')"
      ],
      "execution_count": null,
      "outputs": [
        {
          "output_type": "execute_result",
          "data": {
            "text/plain": [
              "Text(0.5, 384.16, 'Predicted Diagnosis')"
            ]
          },
          "metadata": {},
          "execution_count": 801
        },
        {
          "output_type": "display_data",
          "data": {
            "image/png": "[encoded data removed]",
            "text/plain": [
              "<Figure size 864x432 with 2 Axes>"
            ]
          },
          "metadata": {
            "needs_background": "light"
          }
        }
      ]
    },
    {
      "cell_type": "markdown",
      "source": [
        "**MLP Classifier**"
      ],
      "metadata": {
        "id": "GpY9IhAUa4Xw"
      }
    },
    {
      "cell_type": "code",
      "metadata": {
        "colab": {
          "base_uri": "https://localhost:8080/",
          "height": 486
        },
        "id": "7Hvi7ygcrdoM",
        "outputId": "8bc72baf-a988-4cc4-feb7-2ff9d005f13c"
      },
      "source": [
        "# Create the Confusion Matrix MLP Classifier\n",
        "cnf_matrix = metrics.confusion_matrix(y_test, y_pred1)\n",
        "\n",
        "# Visualizing the Confusion Matrix\n",
        "class_names = [0, 1] \n",
        "\n",
        "fig, ax = plt.subplots()\n",
        "tick_marks = np.arange(len(class_names)) \n",
        "plt.xticks(tick_marks, class_names)\n",
        "plt.yticks(tick_marks, class_names)\n",
        "sns.heatmap(pd.DataFrame(cnf_matrix), annot=True, cmap=\"viridis\" ,fmt='g') \n",
        "ax.xaxis.set_label_position(\"top\")\n",
        "plt.tight_layout()\n",
        "plt.title('Confusion Matrix for MLP Classifier', y = 1.1)\n",
        "plt.ylabel('Actual Diagnosis')\n",
        "plt.xlabel('Predicted Diagnosis')\n"
      ],
      "execution_count": null,
      "outputs": [
        {
          "output_type": "execute_result",
          "data": {
            "text/plain": [
              "Text(0.5, 384.16, 'Predicted Diagnosis')"
            ]
          },
          "metadata": {},
          "execution_count": 794
        },
        {
          "output_type": "display_data",
          "data": {
            "image/png": "[encoded data removed]",
            "text/plain": [
              "<Figure size 864x432 with 2 Axes>"
            ]
          },
          "metadata": {
            "needs_background": "light"
          }
        }
      ]
    },
    {
      "cell_type": "markdown",
      "source": [
        "**K-Nearest Neighbors**"
      ],
      "metadata": {
        "id": "fAdzf3Tia6-1"
      }
    },
    {
      "cell_type": "code",
      "metadata": {
        "colab": {
          "base_uri": "https://localhost:8080/",
          "height": 486
        },
        "id": "TPAxUEfxE5UL",
        "outputId": "b0ae2a96-fa69-4558-b315-ed4f7c53e785"
      },
      "source": [
        "# Create the Confusion Matrix KNeighborsClassifier\n",
        "cnf_matrix = metrics.confusion_matrix(y_test, y_pred2)\n",
        "\n",
        "# Visualizing the Confusion Matrix\n",
        "class_names = [0, 1] \n",
        "\n",
        "fig, ax = plt.subplots()\n",
        "tick_marks = np.arange(len(class_names)) \n",
        "plt.xticks(tick_marks, class_names)\n",
        "plt.yticks(tick_marks, class_names)\n",
        "sns.heatmap(pd.DataFrame(cnf_matrix), annot=True, cmap=\"viridis\" ,fmt='g') \n",
        "ax.xaxis.set_label_position(\"top\")\n",
        "plt.tight_layout()\n",
        "plt.title('Confusion Matrix for KNeighborsClassifier', y = 1.1)\n",
        "plt.ylabel('Actual Diagnosis')\n",
        "plt.xlabel('Predicted Diagnosis')"
      ],
      "execution_count": null,
      "outputs": [
        {
          "output_type": "execute_result",
          "data": {
            "text/plain": [
              "Text(0.5, 384.16, 'Predicted Diagnosis')"
            ]
          },
          "metadata": {},
          "execution_count": 791
        },
        {
          "output_type": "display_data",
          "data": {
            "image/png": "[encoded data removed]",
            "text/plain": [
              "<Figure size 864x432 with 2 Axes>"
            ]
          },
          "metadata": {
            "needs_background": "light"
          }
        }
      ]
    },
    {
      "cell_type": "markdown",
      "metadata": {
        "id": "p6JjC1XWrpiL"
      },
      "source": [
        "### **2. b) Tests 2: Hyperparameter Optimization but no PCA**"
      ]
    },
    {
      "cell_type": "markdown",
      "source": [
        "**Logistic Regression**"
      ],
      "metadata": {
        "id": "VlvmOgrdV7yg"
      }
    },
    {
      "cell_type": "code",
      "metadata": {
        "id": "LNGdraUFMIew"
      },
      "source": [
        "## Tests 2: Logistic Regression\n",
        "newModel = LogisticRegression() \n",
        "cv = StratifiedKFold(n_splits=10, random_state=None, shuffle=False)\n",
        "param_grid = [\n",
        "  {'penalty' : ['l1', 'l2', 'elasticnet', 'none'],\n",
        "   'C' : np.logspace(0, 10, 6),\n",
        "   'solver' : ['lbfgs', 'newton-cg', 'liblinear', 'sag', 'saga']\n",
        "   }\n",
        "]\n",
        "\n",
        "# Performing GridSearch\n",
        "clf = GridSearchCV(newModel, param_grid = param_grid, cv = cv, verbose = True, n_jobs = -1)"
      ],
      "execution_count": null,
      "outputs": []
    },
    {
      "cell_type": "code",
      "metadata": {
        "colab": {
          "base_uri": "https://localhost:8080/"
        },
        "id": "8Hbz5j0sSsUf",
        "outputId": "de8cf1ea-3e2a-45d7-ef27-d345eb4b6596"
      },
      "source": [
        "best_clf = clf.fit(X_train, y_train)"
      ],
      "execution_count": null,
      "outputs": [
        {
          "output_type": "stream",
          "name": "stdout",
          "text": [
            "Fitting 10 folds for each of 120 candidates, totalling 1200 fits\n"
          ]
        }
      ]
    },
    {
      "cell_type": "code",
      "metadata": {
        "colab": {
          "base_uri": "https://localhost:8080/"
        },
        "id": "hECTql8Dac8_",
        "outputId": "ea4bd49d-54f5-4883-e7c7-2d4f9dec6ae1"
      },
      "source": [
        "# Determining best hyperparameters\n",
        "best_clf.best_estimator_"
      ],
      "execution_count": null,
      "outputs": [
        {
          "output_type": "execute_result",
          "data": {
            "text/plain": [
              "LogisticRegression(C=100000000.0, class_weight=None, dual=False,\n",
              "                   fit_intercept=True, intercept_scaling=1, l1_ratio=None,\n",
              "                   max_iter=100, multi_class='auto', n_jobs=None, penalty='l1',\n",
              "                   random_state=None, solver='liblinear', tol=0.0001, verbose=0,\n",
              "                   warm_start=False)"
            ]
          },
          "metadata": {},
          "execution_count": 8
        }
      ]
    },
    {
      "cell_type": "code",
      "metadata": {
        "colab": {
          "base_uri": "https://localhost:8080/"
        },
        "id": "51FjXtp8jEJg",
        "outputId": "433f2f42-0f61-4611-bb24-3f6e3ffbb6f9"
      },
      "source": [
        "## Testing accuracy after hyperparameter tuning\n",
        "modelLogisticRegressionNew = LogisticRegression(C=100000000.0, class_weight=None, dual=False,\n",
        "                   fit_intercept=True, intercept_scaling=1, l1_ratio=None,\n",
        "                   max_iter=100, multi_class='auto', n_jobs=None, penalty='l1',\n",
        "                   random_state=None, solver='liblinear', tol=0.0001, verbose=0,\n",
        "                   warm_start=False)\n",
        "\n",
        "modelLogisticRegressionNew.fit(X_train, y_train)\n",
        "\n",
        "y_predNew = modelLogisticRegressionNew.predict(X_test)\n",
        "\n",
        "print(accuracy_score(y_predNew, y_test)*100)\n"
      ],
      "execution_count": null,
      "outputs": [
        {
          "output_type": "stream",
          "name": "stdout",
          "text": [
            "64.56928838951312\n"
          ]
        }
      ]
    },
    {
      "cell_type": "markdown",
      "source": [
        "**MLP Classifier**"
      ],
      "metadata": {
        "id": "N5IMCF04WSK9"
      }
    },
    {
      "cell_type": "code",
      "metadata": {
        "id": "ptOX4V_hkpui"
      },
      "source": [
        "## Tests 2: MLP Classifier\n",
        "newModel2 = MLPClassifier() \n",
        "cv2 = StratifiedKFold(n_splits=10, random_state=None, shuffle=False)\n",
        "param_grid2 = [\n",
        "  {'hidden_layer_sizes' : [(50,50,50), (50,100,50), (100,), (50,), (20,)],\n",
        "    'activation' : ['identity', 'logistic', 'tanh', 'relu'],\n",
        "   'solver' : ['lbfgs', 'sgd', 'adam']\n",
        "   }\n",
        "]\n",
        "\n",
        "# Performing GridSearch\n",
        "clf2 = GridSearchCV(newModel2, param_grid = param_grid2, cv = cv2, verbose = True, n_jobs = -1)"
      ],
      "execution_count": null,
      "outputs": []
    },
    {
      "cell_type": "code",
      "metadata": {
        "colab": {
          "base_uri": "https://localhost:8080/"
        },
        "id": "g0Q9jQ2hoG9F",
        "outputId": "386c841c-6ea1-449e-91fe-9d5baa2f3896"
      },
      "source": [
        "best_clf2 = clf2.fit(X_train, y_train)"
      ],
      "execution_count": null,
      "outputs": [
        {
          "output_type": "stream",
          "name": "stdout",
          "text": [
            "Fitting 10 folds for each of 60 candidates, totalling 600 fits\n"
          ]
        }
      ]
    },
    {
      "cell_type": "code",
      "metadata": {
        "colab": {
          "base_uri": "https://localhost:8080/"
        },
        "id": "BTAgSDEI4cu0",
        "outputId": "ef4734f5-578c-4b59-a956-3d38e7a7cf43"
      },
      "source": [
        "# Determining best hyperparameters\n",
        "best_clf2.best_estimator_"
      ],
      "execution_count": null,
      "outputs": [
        {
          "output_type": "execute_result",
          "data": {
            "text/plain": [
              "MLPClassifier(activation='relu', alpha=0.0001, batch_size='auto', beta_1=0.9,\n",
              "              beta_2=0.999, early_stopping=False, epsilon=1e-08,\n",
              "              hidden_layer_sizes=(100,), learning_rate='adaptive',\n",
              "              learning_rate_init=0.001, max_fun=15000, max_iter=200,\n",
              "              momentum=0.9, n_iter_no_change=10, nesterovs_momentum=True,\n",
              "              power_t=0.5, random_state=None, shuffle=True, solver='adam',\n",
              "              tol=0.0001, validation_fraction=0.1, verbose=False,\n",
              "              warm_start=False)"
            ]
          },
          "metadata": {},
          "execution_count": 19
        }
      ]
    },
    {
      "cell_type": "code",
      "metadata": {
        "colab": {
          "base_uri": "https://localhost:8080/"
        },
        "id": "bBGqhpPI4hC0",
        "outputId": "f12075f8-c109-4ed7-8756-f9f91cb0bca2"
      },
      "source": [
        "## Testing accuracy after hyperparameter tuning\n",
        "modelMLPClassifierNew = MLPClassifier(activation='relu', alpha=0.0001, batch_size='auto', beta_1=0.9,\n",
        "              beta_2=0.999, early_stopping=False, epsilon=1e-08,\n",
        "              hidden_layer_sizes=(100,), learning_rate='adaptive',\n",
        "              learning_rate_init=0.001, max_fun=15000, max_iter=200,\n",
        "              momentum=0.9, n_iter_no_change=10, nesterovs_momentum=True,\n",
        "              power_t=0.5, random_state=None, shuffle=True, solver='adam',\n",
        "              tol=0.0001, validation_fraction=0.1, verbose=False,\n",
        "              warm_start=False)\n",
        "\n",
        "\n",
        "modelMLPClassifierNew.fit(X_train, y_train)\n",
        "\n",
        "y_predNew1 = modelMLPClassifierNew.predict(X_test)\n",
        "\n",
        "print(accuracy_score(y_predNew1, y_test)*100)\n"
      ],
      "execution_count": null,
      "outputs": [
        {
          "output_type": "stream",
          "name": "stdout",
          "text": [
            "63.146067415730336\n"
          ]
        }
      ]
    },
    {
      "cell_type": "markdown",
      "metadata": {
        "id": "LUGQQow1FgwO"
      },
      "source": [
        "**K-Nearest Neighbors**"
      ]
    },
    {
      "cell_type": "code",
      "metadata": {
        "id": "2pJY43nB4evr"
      },
      "source": [
        "## Tests 2: K-Nearest Neighbors\n",
        "newModel4 = KNeighborsClassifier() \n",
        "cv4 = StratifiedKFold(n_splits=10, random_state=None, shuffle=False)\n",
        "param_grid4 = [\n",
        "  {'n_neighbors' : [1, 3, 5, 7, 9],\n",
        "    'weights' : ['uniform'],\n",
        "   'algorithm' : ['auto', 'ball_tree', 'kd_tree', 'brute'],\n",
        "   'leaf_size' : [2, 5, 8],\n",
        "   'metric' : ['minkowski', 'euclidean', 'manhattan'],\n",
        "   'p' : [1]\n",
        "   }\n",
        "]\n",
        "\n",
        "# Performing GridSearch\n",
        "clf4 = GridSearchCV(newModel4, param_grid = param_grid4, cv = cv4, verbose = True, n_jobs = -1)"
      ],
      "execution_count": null,
      "outputs": []
    },
    {
      "cell_type": "code",
      "metadata": {
        "colab": {
          "base_uri": "https://localhost:8080/"
        },
        "id": "DeqHwvUB58vM",
        "outputId": "d11b6f0d-8d9c-463e-f345-9cdce7ec6e68"
      },
      "source": [
        "best_clf4 = clf4.fit(X_train, y_train)"
      ],
      "execution_count": null,
      "outputs": [
        {
          "output_type": "stream",
          "name": "stdout",
          "text": [
            "Fitting 10 folds for each of 180 candidates, totalling 1800 fits\n"
          ]
        }
      ]
    },
    {
      "cell_type": "code",
      "metadata": {
        "colab": {
          "base_uri": "https://localhost:8080/"
        },
        "id": "d-036JS16mqw",
        "outputId": "7de7c595-b11a-42e8-9f7a-14bb39ba499d"
      },
      "source": [
        "# Determining best hyperparameters\n",
        "best_clf4.best_estimator_"
      ],
      "execution_count": null,
      "outputs": [
        {
          "output_type": "execute_result",
          "data": {
            "text/plain": [
              "KNeighborsClassifier(algorithm='auto', leaf_size=2, metric='minkowski',\n",
              "                     metric_params=None, n_jobs=None, n_neighbors=5, p=1,\n",
              "                     weights='uniform')"
            ]
          },
          "metadata": {},
          "execution_count": 264
        }
      ]
    },
    {
      "cell_type": "code",
      "metadata": {
        "colab": {
          "base_uri": "https://localhost:8080/"
        },
        "id": "06OcVP-k6r6I",
        "outputId": "25c8da51-6d85-45b7-b601-0107d8ce0b11"
      },
      "source": [
        "## Testing accuracy after hyperparameter tuning\n",
        "modelKNeighborsNew = KNeighborsClassifier(algorithm='auto', leaf_size=2, metric='minkowski',\n",
        "                     metric_params=None, n_jobs=None, n_neighbors=5, p=1,\n",
        "                     weights='uniform')\n",
        "\n",
        "modelKNeighborsNew.fit(X_train, y_train)\n",
        "\n",
        "y_predNew4 = modelKNeighborsNew.predict(X_test)\n",
        "\n",
        "print(accuracy_score(y_predNew4, y_test)*100)"
      ],
      "execution_count": null,
      "outputs": [
        {
          "output_type": "stream",
          "name": "stdout",
          "text": [
            "62.92134831460674\n"
          ]
        }
      ]
    },
    {
      "cell_type": "markdown",
      "metadata": {
        "id": "_eW3URWjJwfr"
      },
      "source": [
        "### **Tests 2: Results**\n",
        "Logistic Regression: 64.57%\n",
        "\n",
        "MLP Classifier: 63.15% \n",
        "\n",
        "K-Nearest Neighbors: 62.92% \n"
      ]
    },
    {
      "cell_type": "markdown",
      "metadata": {
        "id": "FTYtEty6K4-h"
      },
      "source": [
        "### **2. c) Tests 3: Hyperparameter Optimization and PCA**"
      ]
    },
    {
      "cell_type": "code",
      "metadata": {
        "id": "-YvVqZPDLHM6"
      },
      "source": [
        "# Standardize data before implementing PCA\n",
        "scaler = StandardScaler()\n",
        "X_train_scaled = scaler.fit_transform(X_train)\n",
        "X_test_scaled = scaler.fit_transform(X_test)\n"
      ],
      "execution_count": null,
      "outputs": []
    },
    {
      "cell_type": "code",
      "metadata": {
        "colab": {
          "base_uri": "https://localhost:8080/",
          "height": 421
        },
        "id": "W7SZMkAlWhGd",
        "outputId": "507c3e33-156a-4007-9061-e1a35f9f1f78"
      },
      "source": [
        "# Determining number of components required to explain 95% of variance\n",
        "plt.title('Number of Components Needed to Explain Variance')\n",
        "plt.plot(np.cumsum(pca.explained_variance_ratio_), marker='o', linestyle='-', color='b')\n",
        "plt.axhline(y=0.95, color='r', linestyle='--')\n",
        "plt.xticks(np.arange(0, 70, step=2))\n",
        "plt.axvline(x=64, color='r', linestyle='--')\n",
        "plt.xlabel('n_components')\n",
        "plt.ylabel('Explained Variance')"
      ],
      "execution_count": null,
      "outputs": [
        {
          "output_type": "execute_result",
          "data": {
            "text/plain": [
              "Text(0, 0.5, 'Explained Variance')"
            ]
          },
          "metadata": {},
          "execution_count": 393
        },
        {
          "output_type": "display_data",
          "data": {
            "image/png": "[encoded data removed]",
            "text/plain": [
              "<Figure size 864x432 with 1 Axes>"
            ]
          },
          "metadata": {
            "needs_background": "light"
          }
        }
      ]
    },
    {
      "cell_type": "markdown",
      "metadata": {
        "id": "L4yKz7z-Xdzr"
      },
      "source": [
        "As shown in the above diagram, to ensure that 95% of variance is accounted for, n_components must equal 64."
      ]
    },
    {
      "cell_type": "code",
      "metadata": {
        "id": "SUVN3i3vW3H7"
      },
      "source": [
        "# selecting the specific 64 components to explain 95% of variance\n",
        "pca = PCA(n_components=64)\n",
        "pca.fit(X_train_scaled)\n",
        "\n",
        "X_train_pca = pca.transform(X_train_scaled)\n",
        "\n",
        "X_test_pca = pca.transform(X_test_scaled)\n"
      ],
      "execution_count": null,
      "outputs": []
    },
    {
      "cell_type": "markdown",
      "source": [
        "**Logistic Regression**"
      ],
      "metadata": {
        "id": "2aMP0x7pZrOa"
      }
    },
    {
      "cell_type": "code",
      "metadata": {
        "colab": {
          "base_uri": "https://localhost:8080/"
        },
        "id": "HawdjyskXoDu",
        "outputId": "dbb0c816-48c5-4405-cd3d-97b615b10ecd"
      },
      "source": [
        "# Tests 3: Logistic Regression\n",
        "modelPCALR = LogisticRegression(C=100000000.0, class_weight=None, dual=False,\n",
        "                   fit_intercept=True, intercept_scaling=1, l1_ratio=None,\n",
        "                   max_iter=100, multi_class='auto', n_jobs=None, penalty='l1',\n",
        "                   random_state=None, solver='liblinear', tol=0.0001, verbose=0,\n",
        "                   warm_start=False)\n",
        "\n",
        "modelPCALR.fit(X_train_pca, y_train)\n",
        "\n",
        "y_predPCALR = modelPCALR.predict(X_test_pca)\n",
        "\n",
        "score = accuracy_score(y_predPCALR, y_test)\n",
        "print(score*100)"
      ],
      "execution_count": null,
      "outputs": [
        {
          "output_type": "stream",
          "name": "stdout",
          "text": [
            "64.8689138576779\n"
          ]
        }
      ]
    },
    {
      "cell_type": "markdown",
      "source": [
        "**MLP Classifier**"
      ],
      "metadata": {
        "id": "Gs4eRPVZZzjD"
      }
    },
    {
      "cell_type": "code",
      "metadata": {
        "colab": {
          "base_uri": "https://localhost:8080/"
        },
        "id": "JCaXAMtgXGiS",
        "outputId": "e9f09dff-df3c-43a9-842c-3e30c49896a7"
      },
      "source": [
        "# Tests 3: MLP Classifier\n",
        "modelPCAMLP = MLPClassifier(activation='relu', alpha=0.0001, batch_size='auto', beta_1=0.9,\n",
        "              beta_2=0.999, early_stopping=False, epsilon=1e-08,\n",
        "              hidden_layer_sizes=(100,), learning_rate='adaptive',\n",
        "              learning_rate_init=0.001, max_fun=15000, max_iter=200,\n",
        "              momentum=0.9, n_iter_no_change=10, nesterovs_momentum=True,\n",
        "              power_t=0.5, random_state=None, shuffle=True, solver='adam',\n",
        "              tol=0.0001, validation_fraction=0.1, verbose=False,\n",
        "              warm_start=False)\n",
        "\n",
        "modelPCAMLP.fit(X_train_pca, y_train)\n",
        "\n",
        "y_predPCAMLP = modelPCAMLP.predict(X_test_pca)\n",
        "\n",
        "score = accuracy_score(y_predPCAMLP, y_test)\n",
        "\n",
        "print(score*100)"
      ],
      "execution_count": null,
      "outputs": [
        {
          "output_type": "stream",
          "name": "stdout",
          "text": [
            "71.16104868913857\n"
          ]
        }
      ]
    },
    {
      "cell_type": "markdown",
      "source": [
        "**K-Nearest Neighbors**"
      ],
      "metadata": {
        "id": "kN9rLZPoaQAI"
      }
    },
    {
      "cell_type": "code",
      "metadata": {
        "colab": {
          "base_uri": "https://localhost:8080/"
        },
        "id": "5-fc6wfYX3i4",
        "outputId": "1f36f8ae-75de-458c-9dec-72aa0063ddac"
      },
      "source": [
        "# Tests 3: K-Nearest Neighbors\n",
        "modelPCAKN = KNeighborsClassifier(algorithm='auto', leaf_size=2, metric='minkowski',\n",
        "                     metric_params=None, n_jobs=None, n_neighbors=5, p=1,\n",
        "                     weights='uniform')\n",
        "\n",
        "modelPCAKN.fit(X_train_pca, y_train)\n",
        "\n",
        "y_predPCAKN = modelPCAKN.predict(X_test_pca)\n",
        "\n",
        "score = accuracy_score(y_predPCAKN, y_test)\n",
        "print(score*100)"
      ],
      "execution_count": null,
      "outputs": [
        {
          "output_type": "stream",
          "name": "stdout",
          "text": [
            "69.3632958801498\n"
          ]
        }
      ]
    },
    {
      "cell_type": "markdown",
      "source": [
        "### **Tests 3: Results**\n",
        "Logistic Regression: 64.87%\n",
        "\n",
        "MLP Classifier: 71.16% \n",
        "\n",
        "K-Nearest Neighbors: 69.36% \n"
      ],
      "metadata": {
        "id": "5DJFO3WYabqA"
      }
    },
    {
      "cell_type": "markdown",
      "source": [
        "### **Visualizing Results in Confusion Matrices**\n",
        "Allows for identification of false positives and false negatives, an important distinction.\n",
        "\n",
        "0 - not at risk of relapse \n",
        "\n",
        "1 - at risk of relapse"
      ],
      "metadata": {
        "id": "8LwxBFeJaxE1"
      }
    },
    {
      "cell_type": "code",
      "metadata": {
        "colab": {
          "base_uri": "https://localhost:8080/",
          "height": 486
        },
        "id": "A46TUjGXlzqM",
        "outputId": "b882caed-b194-406b-90cd-bc13db3048d4"
      },
      "source": [
        "# Create the Confusion Matrix for Logistic Regression with Hyperparameter Tuning and PCA\n",
        "cnf_matrix = metrics.confusion_matrix(y_test, y_predPCALR)\n",
        "\n",
        "# Visualizing the Confusion Matrix\n",
        "class_names = [0, 1] \n",
        "\n",
        "fig, ax = plt.subplots()\n",
        "tick_marks = np.arange(len(class_names)) \n",
        "plt.xticks(tick_marks, class_names)\n",
        "plt.yticks(tick_marks, class_names)\n",
        "sns.heatmap(pd.DataFrame(cnf_matrix), annot=True, cmap=\"viridis\" ,fmt='g') \n",
        "ax.xaxis.set_label_position(\"top\")\n",
        "plt.tight_layout()\n",
        "plt.title('Confusion Matrix for Logistic Regression with Hyperparameter Tuning and PCA', y = 1.1)\n",
        "plt.ylabel('Actual Diagnosis')\n",
        "plt.xlabel('Predicted Diagnosis')"
      ],
      "execution_count": null,
      "outputs": [
        {
          "output_type": "execute_result",
          "data": {
            "text/plain": [
              "Text(0.5, 384.16, 'Predicted Diagnosis')"
            ]
          },
          "metadata": {},
          "execution_count": 789
        },
        {
          "output_type": "display_data",
          "data": {
            "image/png": "[encoded data removed]",
            "text/plain": [
              "<Figure size 864x432 with 2 Axes>"
            ]
          },
          "metadata": {
            "needs_background": "light"
          }
        }
      ]
    },
    {
      "cell_type": "code",
      "metadata": {
        "colab": {
          "base_uri": "https://localhost:8080/",
          "height": 486
        },
        "id": "OqkxhprJlWMb",
        "outputId": "7ba6997c-34b8-4b96-80f1-93fb0dc3afbf"
      },
      "source": [
        "# # Create the Confusion Matrix for MLP Classifier with Hyperparameter Tuning and PCA\n",
        "cnf_matrix = metrics.confusion_matrix(y_test, y_predPCAMLP)\n",
        "\n",
        "# Visualizing the Confusion Matrix\n",
        "class_names = [0, 1] \n",
        "\n",
        "fig, ax = plt.subplots()\n",
        "tick_marks = np.arange(len(class_names)) \n",
        "plt.xticks(tick_marks, class_names)\n",
        "plt.yticks(tick_marks, class_names)\n",
        "sns.heatmap(pd.DataFrame(cnf_matrix), annot=True, cmap=\"viridis\" ,fmt='g') \n",
        "ax.xaxis.set_label_position(\"top\")\n",
        "plt.tight_layout()\n",
        "plt.title('Confusion Matrix for MLP Classifier with Hyperparameter Tuning and PCA', y = 1.1)\n",
        "plt.ylabel('Actual Diagnosis')\n",
        "plt.xlabel('Predicted Diagnosis')"
      ],
      "execution_count": null,
      "outputs": [
        {
          "output_type": "execute_result",
          "data": {
            "text/plain": [
              "Text(0.5, 384.16, 'Predicted Diagnosis')"
            ]
          },
          "metadata": {},
          "execution_count": 790
        },
        {
          "output_type": "display_data",
          "data": {
            "image/png": "[encoded data removed]",
            "text/plain": [
              "<Figure size 864x432 with 2 Axes>"
            ]
          },
          "metadata": {
            "needs_background": "light"
          }
        }
      ]
    },
    {
      "cell_type": "code",
      "metadata": {
        "colab": {
          "base_uri": "https://localhost:8080/",
          "height": 486
        },
        "id": "XflUGsiBq23I",
        "outputId": "865a6d1b-a5f5-4e01-dda5-93188835385f"
      },
      "source": [
        "# Create the Confusion Matrix for K-Nearest Neighbors with Hyperparameter Tuning and PCA\n",
        "cnf_matrix = metrics.confusion_matrix(y_test, y_predPCAKN)\n",
        "\n",
        "# Visualizing the Confusion Matrix\n",
        "class_names = [0, 1] \n",
        "\n",
        "fig, ax = plt.subplots()\n",
        "tick_marks = np.arange(len(class_names)) \n",
        "plt.xticks(tick_marks, class_names)\n",
        "plt.yticks(tick_marks, class_names)\n",
        "sns.heatmap(pd.DataFrame(cnf_matrix), annot=True, cmap=\"viridis\" ,fmt='g') \n",
        "ax.xaxis.set_label_position(\"top\")\n",
        "plt.tight_layout()\n",
        "plt.title('Confusion Matrix for KNeighbors with Hyperparameter Tuning and PCA', y = 1.1)\n",
        "plt.ylabel('Actual Diagnosis')\n",
        "plt.xlabel('Predicted Diagnosis')"
      ],
      "execution_count": null,
      "outputs": [
        {
          "output_type": "execute_result",
          "data": {
            "text/plain": [
              "Text(0.5, 384.16, 'Predicted Diagnosis')"
            ]
          },
          "metadata": {},
          "execution_count": 788
        },
        {
          "output_type": "display_data",
          "data": {
            "image/png": "[encoded data removed]",
            "text/plain": [
              "<Figure size 864x432 with 2 Axes>"
            ]
          },
          "metadata": {
            "needs_background": "light"
          }
        }
      ]
    },
    {
      "cell_type": "markdown",
      "metadata": {
        "id": "LVf3oQRkuXJC"
      },
      "source": [
        "## **3. Final Results**\n"
      ]
    },
    {
      "cell_type": "markdown",
      "source": [
        "Comparison of Accuracy\n",
        "\n",
        "|      **Model**      | **Accuracy Before Hyperparameter Optimization (%)** | **Accuracy After Hyperparameter Optimization (%)** | **Accuracy After Hyperparameter Optimization and PCA (%)** |\n",
        "|:-------------------:|:---------------------------------------------------:|:--------------------------------------------------:|:----------------------------------------------------------:|\n",
        "| MLP Classifier      | 60.37                                               | 63.15                                              | 71.16                                                      |\n",
        "| Logistic Regression | 57.53                                               | 64.57                                              | 64.87                                                      |\n",
        "| K-Nearest Neighbors | 58.28                                               | 62.92                                              | 69.36                                                      |\n",
        "\n",
        "\n",
        "<br>\n",
        "\n",
        "Comparison of False Negatives \n",
        "\n",
        "\n",
        "\n",
        "|      **Model**      | **False Negatives Before Hyperparameter Optimization** | **False Negatives After Hyperparameter Optimization and PCA** |\n",
        "|:-------------------:|:------------------------------------------------------:|:-------------------------------------------------------------:|\n",
        "| MLP Classifier      | 297                                                    | 194                                                           |\n",
        "| Logistic Regression | 217                                                    | 204                                                           |\n",
        "| K-Nearest Neighbors | 290                                                    | 198                                                           |"
      ],
      "metadata": {
        "id": "pnUOuo4lfrd2"
      }
    },
    {
      "cell_type": "code",
      "metadata": {
        "colab": {
          "base_uri": "https://localhost:8080/",
          "height": 404
        },
        "id": "0PpXQptUyIGM",
        "outputId": "541a7414-a24e-4975-8bac-3074404694ca"
      },
      "source": [
        "# Plotting graph of results\n",
        "no_hyperparameter_tuning = [57.53, 60.37, 58.28]\n",
        "hyperparameter_tuning = [64.57, 63.15, 62.92]\n",
        "hyperparameter_and_pca = [64.87, 71.16, 69.36]\n",
        "  \n",
        "n=3\n",
        "r = np.arange(n)\n",
        "width = 0.17\n",
        "  \n",
        "  \n",
        "plt.bar(r, no_hyperparameter_tuning, color = 'b',\n",
        "        width = width, edgecolor = 'black',\n",
        "        label='No Hyperparameter Tuning or PCA')\n",
        "plt.bar(r + width, hyperparameter_tuning, color = 'g',\n",
        "        width = width, edgecolor = 'black',\n",
        "        label='Hyperparameter Tuning Only')\n",
        "\n",
        "plt.bar(r + 2 * width, hyperparameter_and_pca, color = 'r',\n",
        "        width = width, edgecolor = 'black',\n",
        "        label='Hyperparameter Tuning and PCA')\n",
        "  \n",
        "plt.xlabel(\"Machine Learning Models\")\n",
        "plt.ylabel(\"Accuracy\")\n",
        "plt.title(\"Final Results\")\n",
        "\n",
        "plt.xticks(r + width/2 + 0.09,['Logistic Regression','MLP Classifier','KNeighbors Classifier'])\n",
        "plt.legend()\n",
        "plt.yticks(np.arange(0, 100, step=10))\n",
        "  \n",
        "plt.show()"
      ],
      "execution_count": null,
      "outputs": [
        {
          "output_type": "display_data",
          "data": {
            "image/png": "[encoded data removed]",
            "text/plain": [
              "<Figure size 864x432 with 1 Axes>"
            ]
          },
          "metadata": {
            "needs_background": "light"
          }
        }
      ]
    }
  ]
}
